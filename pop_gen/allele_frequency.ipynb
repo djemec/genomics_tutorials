{
 "cells": [
  {
   "cell_type": "markdown",
   "metadata": {},
   "source": [
    "# Allele Frequency Calcualtion\n",
    "\n",
    "This notebook is an introduction to a somewhat primative topic: Calcualting allele frequencies. While these calculations can be done with dedicated packages, we will practice writing out functions to calculate your own.\n",
    "\n",
    "The only libraries we allow ourselves to use here are `numpy`, `pandas` (mainly for visualization), and `matplotlib`, except for some special util functions later on. Let's start by loading these libraries in as usual."
   ]
  },
  {
   "cell_type": "code",
   "execution_count": 1,
   "metadata": {},
   "outputs": [],
   "source": [
    "import numpy as np\n",
    "import pandas as pd\n",
    "import matplotlib.pyplot as plt\n",
    "\n",
    "seed = 4321\n",
    "np.random.seed(seed)"
   ]
  },
  {
   "cell_type": "markdown",
   "metadata": {},
   "source": [
    "## Allele and Genotype Frequencies\n",
    "\n",
    "A locus is a position in the genome that may contain one or more alleles. The combination of _alleles_ for an individual sample at a locus is known as the _genotype_. For humans, at most location we observe 2 different alleles due to evolutionalry pressures so commonly a di-allelic model (2 known alleles per locus) is used, but the of this exercise will be to evaluate _k-allelic_ loci or loci where any number of alleles can occur."
   ]
  },
  {
   "cell_type": "markdown",
   "metadata": {},
   "source": [
    "### Generating Sample Data\n",
    "\n",
    "To start out we will generate 5 sample genotypes using a tuple to represent the two allels. For now we will assume a biallelic model where each sample only has 2 alleles at each locus. We will also assume that the choices can be `{A,C,T,G,.}` where `.` represents a no-call, or a deletion. Additionally, we will set a probability distribution for each letter's occurrence so that the majority fall within a 2 alleles."
   ]
  },
  {
   "cell_type": "code",
   "execution_count": 2,
   "metadata": {},
   "outputs": [],
   "source": [
    "bases = ['A','C','T','G','.']\n",
    "prob = [.39,.39,.11,.07,.04]\n",
    "n = 10"
   ]
  },
  {
   "cell_type": "code",
   "execution_count": 3,
   "metadata": {},
   "outputs": [
    {
     "data": {
      "text/plain": [
       "[('A', 'T'),\n",
       " ('C', 'A'),\n",
       " ('A', '.'),\n",
       " ('C', 'C'),\n",
       " ('A', 'A'),\n",
       " ('C', 'C'),\n",
       " ('A', 'C'),\n",
       " ('C', 'G'),\n",
       " ('A', 'C'),\n",
       " ('A', 'C')]"
      ]
     },
     "execution_count": 3,
     "metadata": {},
     "output_type": "execute_result"
    }
   ],
   "source": [
    "genotypes = [tuple(np.random.choice(bases,2,p=prob)) for i in range(n)]\n",
    "genotypes"
   ]
  },
  {
   "cell_type": "markdown",
   "metadata": {},
   "source": [
    "### Allele Frequency\n",
    "\n",
    "The allele frequency from this set now becomes straightforward to calculate when evaluating via brute force.  The frequency will become the the count of the specific Allele's $D$ occurrence over two times the total sample count $N$. We use two times the total sample count since we are using a _bi-allelic_ model.  This frequency can be expresed like this:\n",
    "$$f(D)=\\frac{N_{D}}{2N}$$"
   ]
  },
  {
   "cell_type": "code",
   "execution_count": 4,
   "metadata": {},
   "outputs": [],
   "source": [
    "def af(genotypes,allele):\n",
    "    sample_n = len(genotypes)\n",
    "    allele_ct = 0\n",
    "    for gt in genotypes:\n",
    "        allele_ct += gt.count(allele)\n",
    "    return allele_ct/(2*sample_n) "
   ]
  },
  {
   "cell_type": "code",
   "execution_count": 5,
   "metadata": {},
   "outputs": [
    {
     "data": {
      "text/plain": [
       "['A: 0.4', 'C: 0.45', 'T: 0.05', 'G: 0.05', '.: 0.05']"
      ]
     },
     "execution_count": 5,
     "metadata": {},
     "output_type": "execute_result"
    }
   ],
   "source": [
    "[f'{i}: ' + str(af(genotypes,i)) for i in bases]"
   ]
  },
  {
   "cell_type": "markdown",
   "metadata": {},
   "source": [
    "## Genotype Frequencies\n",
    "\n",
    "The genotype frequency as well can be calculated straight forward from this directly.  The frequency will become the the count of the specific Genotype's $Dd$ occurrence, regardless of order, over the total sample count $N$, like this:\n",
    "$$f(Dd)=\\frac{N_{Dd}}{N}$$"
   ]
  },
  {
   "cell_type": "code",
   "execution_count": 6,
   "metadata": {},
   "outputs": [],
   "source": [
    "def gf(genotypes,gt):\n",
    "    sample_n = len(genotypes)\n",
    "    genotype_ct = genotypes.count(gt)\n",
    "    genotype_ct += genotypes.count(gt[::-1]) if len(set(gt)) > 1 else 0\n",
    "    return genotype_ct/(sample_n) "
   ]
  },
  {
   "cell_type": "code",
   "execution_count": 7,
   "metadata": {},
   "outputs": [
    {
     "data": {
      "text/plain": [
       "\"('A', 'C'):0.4\""
      ]
     },
     "execution_count": 7,
     "metadata": {},
     "output_type": "execute_result"
    }
   ],
   "source": [
    "gt = ('A','C')\n",
    "f'{gt}:' + str(gf(genotypes,gt))"
   ]
  },
  {
   "cell_type": "markdown",
   "metadata": {},
   "source": [
    "## Using Gentoype Frequency to Calcualte Allele Frequency\n",
    "\n",
    "The genotype frequency can also be used to calcualte the allele frequency. We can do this by summing the frequency of the homozygous allele with half of the frequency of all the heterozygous alleles. We only use half of the frequncy in heterozygous occurrences since each heterozygous genotype accounts for both the allele of interest and another allele. This can be expressed like this:\n",
    "$$f(d)=f(dd)+\\sum_{j:j\\not=d}{\\frac{f(dj)}{2}}$$"
   ]
  },
  {
   "cell_type": "code",
   "execution_count": 8,
   "metadata": {},
   "outputs": [],
   "source": [
    "def af_from_gt(genotypes,allele):\n",
    "    hom_freq = gf(genotypes,(allele,allele))\n",
    "    het_freq = 0\n",
    "    het_genotypes = set([tuple(sorted(i)) for i in genotypes if ('A' in i and len(set(i))>1)])\n",
    "    for gt in het_genotypes:\n",
    "        het_freq += gf(genotypes,gt)/2\n",
    "    return hom_freq + het_freq"
   ]
  },
  {
   "cell_type": "code",
   "execution_count": 9,
   "metadata": {},
   "outputs": [
    {
     "data": {
      "text/plain": [
       "'A: 0.4'"
      ]
     },
     "execution_count": 9,
     "metadata": {},
     "output_type": "execute_result"
    }
   ],
   "source": [
    "allele = 'A'\n",
    "f'{allele}: ' + str(af_from_gt(genotypes,allele))"
   ]
  },
  {
   "cell_type": "code",
   "execution_count": null,
   "metadata": {},
   "outputs": [],
   "source": []
  }
 ],
 "metadata": {
  "kernelspec": {
   "display_name": "Python 3",
   "language": "python",
   "name": "python3"
  },
  "language_info": {
   "codemirror_mode": {
    "name": "ipython",
    "version": 3
   },
   "file_extension": ".py",
   "mimetype": "text/x-python",
   "name": "python",
   "nbconvert_exporter": "python",
   "pygments_lexer": "ipython3",
   "version": "3.8.5"
  },
  "toc": {
   "base_numbering": 1,
   "nav_menu": {},
   "number_sections": true,
   "sideBar": true,
   "skip_h1_title": false,
   "title_cell": "Table of Contents",
   "title_sidebar": "Contents",
   "toc_cell": false,
   "toc_position": {},
   "toc_section_display": true,
   "toc_window_display": false
  }
 },
 "nbformat": 4,
 "nbformat_minor": 4
}
